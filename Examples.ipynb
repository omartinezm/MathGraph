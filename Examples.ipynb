{
 "cells": [
  {
   "cell_type": "markdown",
   "metadata": {},
   "source": [
    "# Example Notebook\n",
    "\n",
    "## 1. Vertex and Edge\n",
    "The classes `Vertex` and `Edge` provides the principal objects of the class `Graph`.\n",
    "The package `Graph` provides a class of the same name. "
   ]
  },
  {
   "cell_type": "code",
   "execution_count": 1,
   "metadata": {},
   "outputs": [],
   "source": [
    "from mathgraph import Vertex"
   ]
  },
  {
   "cell_type": "markdown",
   "metadata": {},
   "source": [
    "The class vertex has a `name`, a `weight`, a `contain` which can be any object and an uptader."
   ]
  },
  {
   "cell_type": "code",
   "execution_count": 2,
   "metadata": {},
   "outputs": [],
   "source": [
    "v1=Vertex(\"v1\",-1,content=\"Isabella\",updaters=[])"
   ]
  },
  {
   "cell_type": "markdown",
   "metadata": {},
   "source": [
    "The attribute `contain` refers to *any kind* object we want to store on the vertex, in this case we put the string `\"Isabella\"`. But it can be a list"
   ]
  },
  {
   "cell_type": "code",
   "execution_count": 3,
   "metadata": {},
   "outputs": [],
   "source": [
    "v1=Vertex(\"v1\",-1,content=[\"Isabella\",\"Fernanda\",\"Lorena\"],updaters=[])"
   ]
  },
  {
   "cell_type": "markdown",
   "metadata": {},
   "source": [
    "Or can be a dictonary"
   ]
  },
  {
   "cell_type": "code",
   "execution_count": 4,
   "metadata": {},
   "outputs": [],
   "source": [
    "v1=Vertex(\"v1\",-1,content={\"Isabella\":24,\"Fernanda\":27,\"Lorena\":22},updaters=[])"
   ]
  },
  {
   "cell_type": "markdown",
   "metadata": {},
   "source": [
    "The attribute *updaters* is a dictionary, the keys is a string identifyer and the value is a double."
   ]
  },
  {
   "cell_type": "code",
   "execution_count": 5,
   "metadata": {},
   "outputs": [],
   "source": [
    "v1=Vertex(\"v1\",-1,content={\"Isabella\":24,\"Fernanda\":27,\"Lorena\":22},updaters=[\"debt\", \"remaining_days\"])"
   ]
  },
  {
   "cell_type": "markdown",
   "metadata": {},
   "source": [
    "You can recover the value of the updater by using the function"
   ]
  },
  {
   "cell_type": "code",
   "execution_count": 6,
   "metadata": {},
   "outputs": [
    {
     "data": {
      "text/plain": [
       "0"
      ]
     },
     "execution_count": 6,
     "metadata": {},
     "output_type": "execute_result"
    }
   ],
   "source": [
    "v1.get_updater_val(\"debt\")"
   ]
  },
  {
   "cell_type": "markdown",
   "metadata": {},
   "source": [
    "All the updaters are initialized at zero, but you cand modify it:"
   ]
  },
  {
   "cell_type": "code",
   "execution_count": 7,
   "metadata": {},
   "outputs": [
    {
     "data": {
      "text/plain": [
       "2500"
      ]
     },
     "execution_count": 7,
     "metadata": {},
     "output_type": "execute_result"
    }
   ],
   "source": [
    "v1.update_val(\"debt\",2500)\n",
    "v1.get_updater_val(\"debt\")"
   ]
  },
  {
   "cell_type": "markdown",
   "metadata": {},
   "source": [
    "There are more methods on this class, like `add_updater()`, `delete_updater()`, and getters and setters."
   ]
  },
  {
   "cell_type": "code",
   "execution_count": 8,
   "metadata": {},
   "outputs": [
    {
     "name": "stdout",
     "output_type": "stream",
     "text": [
      "Vertex (name='v1',weight=-1)\n"
     ]
    }
   ],
   "source": [
    "print(v1)"
   ]
  },
  {
   "cell_type": "markdown",
   "metadata": {},
   "source": [
    "The edges connects the vertexes. It has a `start` vertex, an `end` vertex, `cost`, `name` and `updaters`."
   ]
  },
  {
   "cell_type": "code",
   "execution_count": 9,
   "metadata": {},
   "outputs": [],
   "source": [
    "from mathgraph import Edge"
   ]
  },
  {
   "cell_type": "code",
   "execution_count": 10,
   "metadata": {},
   "outputs": [],
   "source": [
    "v1=Vertex(\"v1\",25,content=\"Isabella\",updaters=[])\n",
    "v2=Vertex(\"v2\",25,content=\"Fernanda\",updaters=[])\n",
    "\n",
    "e1=Edge(v1,v2,cost=2.5,name=\"Debt\",updaters=[])"
   ]
  },
  {
   "cell_type": "markdown",
   "metadata": {},
   "source": [
    "It also have the usual getters and setters and works pretty similar to a vertex."
   ]
  },
  {
   "cell_type": "code",
   "execution_count": 11,
   "metadata": {},
   "outputs": [
    {
     "name": "stdout",
     "output_type": "stream",
     "text": [
      "Edge (v1,v2,cost=2.5)\n"
     ]
    }
   ],
   "source": [
    "print(e1)"
   ]
  },
  {
   "cell_type": "markdown",
   "metadata": {},
   "source": [
    "## 2. Graph\n",
    "\n",
    "This class models the network given by the vertexes and edges. It has a dict of vertexes (`vertex`), a dict of edges (`edges`), a `name`, can be directed (`isdirected: True | False`), can be autoupdated (`autoupdate: True | False`) when you add information, has a dict of `updaters` and finally can be `propagative`."
   ]
  },
  {
   "cell_type": "code",
   "execution_count": 12,
   "metadata": {},
   "outputs": [
    {
     "data": {
      "text/plain": [
       "mathgraph.graph.Graph"
      ]
     },
     "execution_count": 12,
     "metadata": {},
     "output_type": "execute_result"
    }
   ],
   "source": [
    "from mathgraph import Graph\n",
    "Graph"
   ]
  },
  {
   "cell_type": "code",
   "execution_count": 13,
   "metadata": {},
   "outputs": [
    {
     "name": "stdout",
     "output_type": "stream",
     "text": [
      "Graph (\n",
      " vertex=[Vertex (name='v1',weight=25), Vertex (name='v2',weight=25)],\n",
      " edges=[Edge (v1,v2,cost=2.5)])\n"
     ]
    }
   ],
   "source": [
    "v1=Vertex(\"v1\",25,content=\"Isabella\",updaters=[])\n",
    "v2=Vertex(\"v2\",25,content=\"Fernanda\",updaters=[])\n",
    "\n",
    "e1=Edge(v1,v2,cost=2.5,name=\"Debt\",updaters=[])\n",
    "\n",
    "g1=Graph(vertex=[v1,v2],edges=[e1])\n",
    "print(g1)"
   ]
  },
  {
   "cell_type": "code",
   "execution_count": 14,
   "metadata": {},
   "outputs": [
    {
     "data": {
      "text/plain": [
       "[Vertex (name='v1',weight=25), Vertex (name='v2',weight=25)]"
      ]
     },
     "execution_count": 14,
     "metadata": {},
     "output_type": "execute_result"
    }
   ],
   "source": [
    "g1.get_vertexes()"
   ]
  },
  {
   "cell_type": "markdown",
   "metadata": {},
   "source": [
    "There is no need to specify the vertexes, you cas just pass the edges:"
   ]
  },
  {
   "cell_type": "code",
   "execution_count": 15,
   "metadata": {},
   "outputs": [
    {
     "name": "stdout",
     "output_type": "stream",
     "text": [
      "Graph (\n",
      " vertex=[Vertex (name='v1',weight=25), Vertex (name='v2',weight=25)],\n",
      " edges=[Edge (v1,v2,cost=2.5)])\n"
     ]
    }
   ],
   "source": [
    "v1=Vertex(\"v1\",25,content=\"Isabella\",updaters=[])\n",
    "v2=Vertex(\"v2\",25,content=\"Fernanda\",updaters=[])\n",
    "\n",
    "e1=Edge(v1,v2,cost=2.5,name=\"Debt\",updaters=[])\n",
    "\n",
    "g1=Graph(edges=[e1])\n",
    "print(g1)"
   ]
  },
  {
   "cell_type": "markdown",
   "metadata": {},
   "source": [
    "### 2.1 Uptaters: What is it?"
   ]
  },
  {
   "cell_type": "markdown",
   "metadata": {},
   "source": [
    "The idea of the updaters is to change the value of some registers on the graph following an undater rule. So, for example, you want to save the sum of the weights entering to your vertex from the neighborhoods multiplied by the cost of the edge connecting them, also when you put a new vertex on the graph you would like to update this information. Then you define a new updater caller `\"in_weight\"`, also, creates a rule that defines the way you update this information. So you create a function which take a vertex sum weight of the values of the neighborhoods and save it on the updater of the vertex."
   ]
  },
  {
   "cell_type": "code",
   "execution_count": 16,
   "metadata": {},
   "outputs": [],
   "source": [
    "def in_weight(graph,key,start_vertex,vertex=None,edge=None,back=False):\n",
    "    for v in graph.get_edges(vertex,starting=False):\n",
    "        vertex.update_val(key,vertex.get_updater_val(key)+v.get_cost()*v.start.get_weight())"
   ]
  },
  {
   "cell_type": "code",
   "execution_count": 17,
   "metadata": {},
   "outputs": [],
   "source": [
    "v1=Vertex(\"v1\",25,content=\"Isabella\",updaters=[\"in_weight\"])\n",
    "v2=Vertex(\"v2\",25,content=\"Fernanda\",updaters=[\"in_weight\"])\n",
    "\n",
    "e1=Edge(v1,v2,cost=2.5,name=\"Debt\",updaters=[])\n",
    "\n",
    "g1=Graph(edges=[e1],updaters={\"in_weight\":in_weight})"
   ]
  },
  {
   "cell_type": "markdown",
   "metadata": {},
   "source": [
    "**Before update**"
   ]
  },
  {
   "cell_type": "code",
   "execution_count": 18,
   "metadata": {},
   "outputs": [
    {
     "data": {
      "text/plain": [
       "{Vertex (name='v1',weight=25): 0, Vertex (name='v2',weight=25): 0}"
      ]
     },
     "execution_count": 18,
     "metadata": {},
     "output_type": "execute_result"
    }
   ],
   "source": [
    "g1.get_updaters_values(\"in_weight\")"
   ]
  },
  {
   "cell_type": "code",
   "execution_count": 19,
   "metadata": {},
   "outputs": [],
   "source": [
    "g1.update_all()"
   ]
  },
  {
   "cell_type": "markdown",
   "metadata": {},
   "source": [
    "**After update**"
   ]
  },
  {
   "cell_type": "code",
   "execution_count": 20,
   "metadata": {},
   "outputs": [
    {
     "data": {
      "text/plain": [
       "{Vertex (name='v1',weight=25): 0, Vertex (name='v2',weight=25): 62.5}"
      ]
     },
     "execution_count": 20,
     "metadata": {},
     "output_type": "execute_result"
    }
   ],
   "source": [
    "g1.get_updaters_values(\"in_weight\")"
   ]
  },
  {
   "cell_type": "markdown",
   "metadata": {},
   "source": [
    "If we add a new vertex and an edge we can recalculate the value of the updater"
   ]
  },
  {
   "cell_type": "code",
   "execution_count": 21,
   "metadata": {},
   "outputs": [],
   "source": [
    "v3=Vertex(\"v3\",10,content=\"Lorena\",updaters=[\"in_weight\"])\n",
    "\n",
    "e2=Edge(v3,v2,cost=1,name=\"Rent\",updaters=[])\n",
    "\n",
    "g1.add_edge([e2])"
   ]
  },
  {
   "cell_type": "code",
   "execution_count": 22,
   "metadata": {},
   "outputs": [
    {
     "data": {
      "text/plain": [
       "{Vertex (name='v1',weight=25): 0,\n",
       " Vertex (name='v2',weight=25): 135.0,\n",
       " Vertex (name='v3',weight=10): 0}"
      ]
     },
     "execution_count": 22,
     "metadata": {},
     "output_type": "execute_result"
    }
   ],
   "source": [
    "g1.update_all()\n",
    "g1.get_updaters_values(\"in_weight\")"
   ]
  },
  {
   "cell_type": "markdown",
   "metadata": {},
   "source": [
    "You can notice the new graph looks like\n",
    "\n",
    "                  (weight=25)v1 ------------->v2<------------- v3(weight=10)\n",
    "                                  (cost=2.5)        (cost=1)\n",
    "\n",
    "So the value of the updater would be `25*2.5+10*1=72.5`, but the last cell shows the value `135.0`. Thats because out function `in_weight` takes the *actual* value of the updater and sums the value of the weight times the cost. To fix this, redefine the function "
   ]
  },
  {
   "cell_type": "code",
   "execution_count": 23,
   "metadata": {},
   "outputs": [],
   "source": [
    "def in_weight(graph,key,start_vertex,vertex=None,edge=None,back=False):\n",
    "    vertex.update_val(key,0) # Reset the updater\n",
    "    for v in graph.get_edges(vertex,starting=False):\n",
    "        vertex.update_val(key,vertex.get_updater_val(key)+v.get_cost()*v.start.get_weight())"
   ]
  },
  {
   "cell_type": "code",
   "execution_count": 24,
   "metadata": {},
   "outputs": [
    {
     "data": {
      "text/plain": [
       "{Vertex (name='v1',weight=25): 0,\n",
       " Vertex (name='v2',weight=25): 72.5,\n",
       " Vertex (name='v3',weight=10): 0}"
      ]
     },
     "execution_count": 24,
     "metadata": {},
     "output_type": "execute_result"
    }
   ],
   "source": [
    "v1=Vertex(\"v1\",25,content=\"Isabella\",updaters=[\"in_weight\"])\n",
    "v2=Vertex(\"v2\",25,content=\"Fernanda\",updaters=[\"in_weight\"])\n",
    "v3=Vertex(\"v3\",10,content=\"Lorena\",updaters=[\"in_weight\"])\n",
    "\n",
    "e1=Edge(v1,v2,cost=2.5,name=\"Debt\",updaters=[])\n",
    "e2=Edge(v3,v2,cost=1,name=\"Rent\",updaters=[])\n",
    "\n",
    "g1=Graph(edges=[e1,e2],updaters={\"in_weight\":in_weight})\n",
    "g1.update_all()\n",
    "g1.get_updaters_values(\"in_weight\")"
   ]
  },
  {
   "cell_type": "markdown",
   "metadata": {},
   "source": [
    "So the rule that updates the follows your function.\n",
    "\n",
    "#### Autoupdate\n",
    "\n",
    "In the last graph we includes a new vertex and a new edge. Also we used the function `update_all()` to recalculate all the values with the new information. If we need this action to be automatically when a new edge is added we cand set `autoupdate=True`."
   ]
  },
  {
   "cell_type": "code",
   "execution_count": 25,
   "metadata": {},
   "outputs": [
    {
     "data": {
      "text/plain": [
       "{Vertex (name='v1',weight=25): 0, Vertex (name='v2',weight=25): 62.5}"
      ]
     },
     "execution_count": 25,
     "metadata": {},
     "output_type": "execute_result"
    }
   ],
   "source": [
    "v1=Vertex(\"v1\",25,content=\"Isabella\",updaters=[\"in_weight\"])\n",
    "v2=Vertex(\"v2\",25,content=\"Fernanda\",updaters=[\"in_weight\"])\n",
    "\n",
    "e1=Edge(v1,v2,cost=2.5,name=\"Debt\",updaters=[])\n",
    "\n",
    "g1=Graph(edges=[e1],autoupdate=True,updaters={\"in_weight\":in_weight})\n",
    "g1.update_all()\n",
    "g1.get_updaters_values(\"in_weight\")"
   ]
  },
  {
   "cell_type": "code",
   "execution_count": 26,
   "metadata": {},
   "outputs": [],
   "source": [
    "# We add a new edge\n",
    "v3=Vertex(\"v3\",10,content=\"Lorena\",updaters=[\"in_weight\"])\n",
    "\n",
    "e2=Edge(v3,v2,cost=1,name=\"Rent\",updaters=[])\n",
    "\n",
    "g1.add_edge([e2])"
   ]
  },
  {
   "cell_type": "code",
   "execution_count": 27,
   "metadata": {},
   "outputs": [
    {
     "data": {
      "text/plain": [
       "{Vertex (name='v1',weight=25): 0,\n",
       " Vertex (name='v2',weight=25): 72.5,\n",
       " Vertex (name='v3',weight=10): 0}"
      ]
     },
     "execution_count": 27,
     "metadata": {},
     "output_type": "execute_result"
    }
   ],
   "source": [
    "# New values\n",
    "g1.get_updaters_values(\"in_weight\")"
   ]
  },
  {
   "cell_type": "markdown",
   "metadata": {},
   "source": [
    "#### Propagation\n",
    "\n",
    "The `autoupdate` function has a particularity: it updates the start vertes and the end vertex of the added edge. So, for example, we store the data `carry` on the some start vertexes `v1` and `v2`, on the graph"
   ]
  },
  {
   "cell_type": "code",
   "execution_count": 28,
   "metadata": {},
   "outputs": [],
   "source": [
    "v1=Vertex(\"v1\",25,content=\"Isabella\",updaters=[\"carry\"])\n",
    "v2=Vertex(\"v2\",25,content=\"Fernanda\",updaters=[\"carry\"])\n",
    "v3=Vertex(\"v3\",25,content=\"Fernanda\",updaters=[\"carry\"])\n",
    "v4=Vertex(\"v4\",25,content=\"Fernanda\",updaters=[\"carry\"])\n",
    "\n",
    "e1=Edge(v1,v3,cost=1,name=\"net\",updaters=[])\n",
    "e3=Edge(v3,v4,cost=1,name=\"net\",updaters=[])\n",
    "\n",
    "g2=Graph(edges=[e1,e3],autoupdate=True)"
   ]
  },
  {
   "cell_type": "markdown",
   "metadata": {},
   "source": [
    "So, we need to define the updater function to the updater `carry`"
   ]
  },
  {
   "cell_type": "code",
   "execution_count": 29,
   "metadata": {},
   "outputs": [],
   "source": [
    "def carry(graph,key,start_vertex,vertex=None,edge=None,back=False):\n",
    "    vertex.update_val(key,0) # Reset the updater\n",
    "    for v in graph.get_edges(vertex,starting=False):\n",
    "        vertex.update_val(key,vertex.get_updater_val(key)+v.get_cost()*v.start.get_updater_val(key))\n",
    "g2.add_func_updater(\"carry\",carry)"
   ]
  },
  {
   "cell_type": "markdown",
   "metadata": {},
   "source": [
    "Now we set new values for the updater at vertex `v1`"
   ]
  },
  {
   "cell_type": "code",
   "execution_count": 30,
   "metadata": {},
   "outputs": [
    {
     "data": {
      "text/plain": [
       "{Vertex (name='v1',weight=25): 2,\n",
       " Vertex (name='v3',weight=25): 0,\n",
       " Vertex (name='v4',weight=25): 0}"
      ]
     },
     "execution_count": 30,
     "metadata": {},
     "output_type": "execute_result"
    }
   ],
   "source": [
    "g2.set_vertex_updater_val(v1,\"carry\",2)\n",
    "g2.get_updaters_values(\"carry\")"
   ]
  },
  {
   "cell_type": "markdown",
   "metadata": {},
   "source": [
    "As you may notice, the update value was updated for the vertex `v3`, which is conected to the vertex `v1`, but the vertex `v4` must be `2` too, because the value of `v3` changed. If we set `propagation=True` the graph will continue updating all the vertex conected to the new value."
   ]
  },
  {
   "cell_type": "code",
   "execution_count": 31,
   "metadata": {},
   "outputs": [
    {
     "name": "stdout",
     "output_type": "stream",
     "text": [
      "Your graph have propagation, you need to specify the start vertex\n"
     ]
    }
   ],
   "source": [
    "v1=Vertex(\"v1\",25,content=\"Isabella\",updaters=[\"carry\"])\n",
    "v2=Vertex(\"v2\",25,content=\"Fernanda\",updaters=[\"carry\"])\n",
    "v3=Vertex(\"v3\",25,content=\"Fernanda\",updaters=[\"carry\"])\n",
    "v4=Vertex(\"v4\",25,content=\"Fernanda\",updaters=[\"carry\"])\n",
    "v5=Vertex(\"v5\",25,content=\"Fernanda\",updaters=[\"carry\"])\n",
    "\n",
    "e1=Edge(v1,v3,cost=1,name=\"net\",updaters=[])\n",
    "e3=Edge(v3,v4,cost=1,name=\"net\",updaters=[])\n",
    "e4=Edge(v4,v5,cost=1,name=\"net\",updaters=[])\n",
    "g2=Graph(edges=[e1,e3,e4],autoupdate=True,propagation=True)"
   ]
  },
  {
   "cell_type": "code",
   "execution_count": 32,
   "metadata": {},
   "outputs": [
    {
     "data": {
      "text/plain": [
       "{Vertex (name='v1',weight=25): 0,\n",
       " Vertex (name='v3',weight=25): 0,\n",
       " Vertex (name='v4',weight=25): 0,\n",
       " Vertex (name='v5',weight=25): 0}"
      ]
     },
     "execution_count": 32,
     "metadata": {},
     "output_type": "execute_result"
    }
   ],
   "source": [
    "g2.get_updaters_values(\"carry\")"
   ]
  },
  {
   "cell_type": "markdown",
   "metadata": {},
   "source": [
    "The las message was given by the propagation function. Due to the graph has `autoupdate=True` it updates all the graph when constructed, by propagation it tries to propagate values, but the graph don't know where to start."
   ]
  },
  {
   "cell_type": "code",
   "execution_count": 33,
   "metadata": {},
   "outputs": [
    {
     "data": {
      "text/plain": [
       "{Vertex (name='v1',weight=25): 2,\n",
       " Vertex (name='v3',weight=25): 0,\n",
       " Vertex (name='v4',weight=25): 0,\n",
       " Vertex (name='v5',weight=25): 0}"
      ]
     },
     "execution_count": 33,
     "metadata": {},
     "output_type": "execute_result"
    }
   ],
   "source": [
    "g2.set_vertex_updater_val(v1,\"carry\",2)\n",
    "g2.get_updaters_values(\"carry\")"
   ]
  },
  {
   "cell_type": "markdown",
   "metadata": {},
   "source": [
    "Now, the vertex `v4` have the correct value.\n",
    "\n",
    "If we add a new vertex and edge, the graph also propagate."
   ]
  },
  {
   "cell_type": "code",
   "execution_count": 34,
   "metadata": {},
   "outputs": [
    {
     "data": {
      "text/plain": [
       "{Vertex (name='v1',weight=25): 2,\n",
       " Vertex (name='v3',weight=25): 2,\n",
       " Vertex (name='v4',weight=25): 0,\n",
       " Vertex (name='v5',weight=25): 0,\n",
       " Vertex (name='v2',weight=25): 0}"
      ]
     },
     "execution_count": 34,
     "metadata": {},
     "output_type": "execute_result"
    }
   ],
   "source": [
    "e2=Edge(v2,v3,cost=1,name=\"net\",updaters=[])\n",
    "g2.add_edge([e2])\n",
    "g2.get_updaters_values(\"carry\")"
   ]
  },
  {
   "cell_type": "code",
   "execution_count": 35,
   "metadata": {},
   "outputs": [
    {
     "data": {
      "text/plain": [
       "{Vertex (name='v1',weight=25): 2,\n",
       " Vertex (name='v3',weight=25): 2,\n",
       " Vertex (name='v4',weight=25): 0,\n",
       " Vertex (name='v5',weight=25): 0,\n",
       " Vertex (name='v2',weight=25): 2}"
      ]
     },
     "execution_count": 35,
     "metadata": {},
     "output_type": "execute_result"
    }
   ],
   "source": [
    "g2.set_vertex_updater_val(v2,\"carry\",2)\n",
    "g2.get_updaters_values(\"carry\")"
   ]
  },
  {
   "cell_type": "code",
   "execution_count": 36,
   "metadata": {},
   "outputs": [],
   "source": [
    "def p_back(graph,key,start_vertex,vertex=None,edge=None,back=False):\n",
    "    if back:\n",
    "        for v in graph.get_edges(vertex,starting=False):\n",
    "            v.start.update_val(key,v.start.get_updater_val(key)+v.get_cost()*vertex.get_updater_val(key))\n",
    "    else:\n",
    "        for v in graph.get_edges(vertex,ending=False):\n",
    "            v.end.update_val(key,v.end.get_updater_val(key)+v.get_cost()*vertex.get_updater_val(key)+vertex.get_bias())"
   ]
  },
  {
   "cell_type": "markdown",
   "metadata": {},
   "source": [
    "## 3. Full connected neural net\n",
    "\n",
    "An special kind of graph is the full connected neural net (`NeuralNetFC`)"
   ]
  },
  {
   "cell_type": "code",
   "execution_count": 37,
   "metadata": {},
   "outputs": [],
   "source": [
    "from mathgraph import NeuralNetFC"
   ]
  },
  {
   "cell_type": "markdown",
   "metadata": {},
   "source": [
    "This class have a `name`, a list with the neurons per layer (`npl`), a list with `updaters`, and it initializes the edges with random values by default (`random=True | False`)"
   ]
  },
  {
   "cell_type": "code",
   "execution_count": 38,
   "metadata": {},
   "outputs": [
    {
     "name": "stderr",
     "output_type": "stream",
     "text": [
      "Layer 0: 100%|██████████| 2/2 [00:00<00:00, 12748.64it/s]\n",
      "Layer 1: 100%|██████████| 3/3 [00:00<00:00, 20560.31it/s]\n",
      "Layer 2: 100%|██████████| 4/4 [00:00<00:00, 25653.24it/s]\n",
      "Connecting network: 100%|██████████| 2/2 [00:00<00:00, 8192.00it/s]\n"
     ]
    }
   ],
   "source": [
    "nn=NeuralNetFC(name=\"example\",npl=[2,3,4],updaters={\"pr\":p_back},random=True)"
   ]
  },
  {
   "cell_type": "code",
   "execution_count": 39,
   "metadata": {},
   "outputs": [
    {
     "data": {
      "text/plain": [
       "NeuralNet_FC (\n",
       "   \u001b[1m config \u001b[0;0m=[2, 3, 4]\n",
       "   \u001b[1m vertex \u001b[0;0m=['L0_v0', 'L0_v1', 'L1_v0', 'L1_v1', 'L1_v2', 'L2_v0', 'L2_v1', 'L2_v2', 'L2_v3'],\n",
       "   \u001b[1m edges \u001b[0;0m=[Edge (L0_v0,L1_v0,cost=0.8301839839486593), Edge (L0_v0,L1_v1,cost=0.12031536122944031), Edge (L0_v0,L1_v2,cost=0.6431484202511253), Edge (L0_v1,L1_v0,cost=0.4459321726053046), Edge (L0_v1,L1_v1,cost=0.6991834447556926), Edge (L0_v1,L1_v2,cost=0.059789136017895816), Edge (L1_v0,L2_v0,cost=0.3521932722883796), Edge (L1_v0,L2_v1,cost=0.052270064093336566), Edge (L1_v0,L2_v2,cost=0.9711021917291963), Edge (L1_v0,L2_v3,cost=0.553402751467237), Edge (L1_v1,L2_v0,cost=0.2116256020115419), Edge (L1_v1,L2_v1,cost=0.4072924136729892), Edge (L1_v1,L2_v2,cost=0.06653173100251275), Edge (L1_v1,L2_v3,cost=0.0707661749962204), Edge (L1_v2,L2_v0,cost=0.9669049939437694), Edge (L1_v2,L2_v1,cost=0.6318489717676404), Edge (L1_v2,L2_v2,cost=0.8008474310121597), Edge (L1_v2,L2_v3,cost=0.6036423958749486)])"
      ]
     },
     "execution_count": 39,
     "metadata": {},
     "output_type": "execute_result"
    }
   ],
   "source": [
    "nn"
   ]
  },
  {
   "cell_type": "markdown",
   "metadata": {},
   "source": [
    "The class creates all the neurons and the edges. The name of the neurons follows the rule `Li_vj`, where `i` is the number of the layer and `j` is the number of the neuron on the layer. This class loads the class `Neuron`, a subclass of vertex."
   ]
  },
  {
   "cell_type": "code",
   "execution_count": 40,
   "metadata": {},
   "outputs": [
    {
     "data": {
      "text/plain": [
       "Neuron (name='L0_v0', bias=0, updaters={'pr': 0})"
      ]
     },
     "execution_count": 40,
     "metadata": {},
     "output_type": "execute_result"
    }
   ],
   "source": [
    "nn.find_vertex_by_name(\"L0_v0\")"
   ]
  },
  {
   "cell_type": "code",
   "execution_count": 41,
   "metadata": {},
   "outputs": [
    {
     "name": "stderr",
     "output_type": "stream",
     "text": [
      "Prop. on 3 layers: 100%|██████████| 9/9 [00:00<00:00, 58798.65it/s]\n"
     ]
    },
    {
     "data": {
      "text/plain": [
       "[[1.3025402867483002, 0.8446286921308743, 1.856707606747287, 1.18852189875901]]"
      ]
     },
     "execution_count": 41,
     "metadata": {},
     "output_type": "execute_result"
    }
   ],
   "source": [
    "nn.predict([[1,1]],key=[\"pr\"])"
   ]
  },
  {
   "cell_type": "markdown",
   "metadata": {},
   "source": [
    "The way it draws a neural net is going from the input (at left) to output (at right). Any other graph is draw the vertexes over a circle."
   ]
  },
  {
   "cell_type": "markdown",
   "metadata": {},
   "source": [
    "###### TODO LIST"
   ]
  },
  {
   "cell_type": "markdown",
   "metadata": {},
   "source": [
    "1. Add a tip to edges.\n",
    "2. Implement back propagation (posibly using [jax](https://github.com/google/jax))\n",
    "3. Add more graphical methods to represent.\n",
    "4. Complete the README."
   ]
  },
  {
   "cell_type": "markdown",
   "metadata": {},
   "source": [
    "***\n",
    "#### Disclaimer\n",
    "\n",
    "This document and the files are work in progress."
   ]
  },
  {
   "cell_type": "code",
   "execution_count": null,
   "metadata": {},
   "outputs": [],
   "source": []
  }
 ],
 "metadata": {
  "kernelspec": {
   "display_name": "base",
   "language": "python",
   "name": "python3"
  },
  "language_info": {
   "codemirror_mode": {
    "name": "ipython",
    "version": 3
   },
   "file_extension": ".py",
   "mimetype": "text/x-python",
   "name": "python",
   "nbconvert_exporter": "python",
   "pygments_lexer": "ipython3",
   "version": "3.11.7"
  }
 },
 "nbformat": 4,
 "nbformat_minor": 2
}

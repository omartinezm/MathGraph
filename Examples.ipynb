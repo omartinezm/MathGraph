{
 "cells": [
  {
   "cell_type": "markdown",
   "metadata": {},
   "source": [
    "# Example Notebook\n",
    "\n",
    "## 1. Vertex and Edge\n",
    "The classes `Vertex` and `Edge` provides the principal objects of the class `Graph`.\n",
    "The package `Graph` provides a class of the same name. "
   ]
  },
  {
   "cell_type": "code",
   "execution_count": 1,
   "metadata": {},
   "outputs": [],
   "source": [
    "from vertex import Vertex"
   ]
  },
  {
   "cell_type": "markdown",
   "metadata": {},
   "source": [
    "The class vertex has a `name`, a `weight`, a `contain` which can be any object and an uptader."
   ]
  },
  {
   "cell_type": "code",
   "execution_count": 2,
   "metadata": {},
   "outputs": [],
   "source": [
    "v1=Vertex(\"v1\",-1,contain=\"Isabella\",updaters=[])"
   ]
  },
  {
   "cell_type": "markdown",
   "metadata": {},
   "source": [
    "The attribute `contain` refers to *any kind* object we want to store on the vertex, in this case we put the string `\"Isabella\"`. But it can be a list"
   ]
  },
  {
   "cell_type": "code",
   "execution_count": 3,
   "metadata": {},
   "outputs": [],
   "source": [
    "v1=Vertex(\"v1\",-1,contain=[\"Isabella\",\"Fernanda\",\"Lorena\"],updaters=[])"
   ]
  },
  {
   "cell_type": "markdown",
   "metadata": {},
   "source": [
    "Or can be a dictonary"
   ]
  },
  {
   "cell_type": "code",
   "execution_count": 4,
   "metadata": {},
   "outputs": [],
   "source": [
    "v1=Vertex(\"v1\",-1,contain={\"Isabella\":24,\"Fernanda\":27,\"Lorena\":22},updaters=[])"
   ]
  },
  {
   "cell_type": "markdown",
   "metadata": {},
   "source": [
    "The attribute *updaters* is a dictionary, the keys is a string identifyer and the value is a double."
   ]
  },
  {
   "cell_type": "code",
   "execution_count": 5,
   "metadata": {},
   "outputs": [],
   "source": [
    "v1=Vertex(\"v1\",-1,contain={\"Isabella\":24,\"Fernanda\":27,\"Lorena\":22},updaters=[\"debt\", \"remaining_days\"])"
   ]
  },
  {
   "cell_type": "markdown",
   "metadata": {},
   "source": [
    "You can recover the value of the updater by using the function"
   ]
  },
  {
   "cell_type": "code",
   "execution_count": 6,
   "metadata": {},
   "outputs": [
    {
     "data": {
      "text/plain": [
       "0"
      ]
     },
     "execution_count": 6,
     "metadata": {},
     "output_type": "execute_result"
    }
   ],
   "source": [
    "v1.get_updater_val(\"debt\")"
   ]
  },
  {
   "cell_type": "markdown",
   "metadata": {},
   "source": [
    "All the updaters are initialized at zero, but you cand modify it:"
   ]
  },
  {
   "cell_type": "code",
   "execution_count": 7,
   "metadata": {},
   "outputs": [
    {
     "data": {
      "text/plain": [
       "2500"
      ]
     },
     "execution_count": 7,
     "metadata": {},
     "output_type": "execute_result"
    }
   ],
   "source": [
    "v1.update_val(\"debt\",2500)\n",
    "v1.get_updater_val(\"debt\")"
   ]
  },
  {
   "cell_type": "markdown",
   "metadata": {},
   "source": [
    "There are more methods on this class, like `add_updater()`, `delete_updater()`, and getters and setters."
   ]
  },
  {
   "cell_type": "code",
   "execution_count": 8,
   "metadata": {},
   "outputs": [
    {
     "name": "stdout",
     "output_type": "stream",
     "text": [
      "Vertex (name='v1',weight=-1)\n"
     ]
    }
   ],
   "source": [
    "print(v1)\n",
    "Vertex?"
   ]
  },
  {
   "cell_type": "markdown",
   "metadata": {},
   "source": [
    "The edges connects the vertexes. It has a `start` vertex, an `end` vertex, `cost`, `name` and `updaters`."
   ]
  },
  {
   "cell_type": "code",
   "execution_count": 9,
   "metadata": {},
   "outputs": [],
   "source": [
    "from edge import Edge"
   ]
  },
  {
   "cell_type": "code",
   "execution_count": 10,
   "metadata": {},
   "outputs": [],
   "source": [
    "v1=Vertex(\"v1\",25,contain=\"Isabella\",updaters=[])\n",
    "v2=Vertex(\"v2\",25,contain=\"Fernanda\",updaters=[])\n",
    "\n",
    "e1=Edge(v1,v2,cost=2.5,name=\"Debt\",updaters=[])"
   ]
  },
  {
   "cell_type": "markdown",
   "metadata": {},
   "source": [
    "It also have the usual getters and setters and works pretty similar to a vertex."
   ]
  },
  {
   "cell_type": "code",
   "execution_count": 11,
   "metadata": {},
   "outputs": [
    {
     "name": "stdout",
     "output_type": "stream",
     "text": [
      "Edge (v1,v2)\n"
     ]
    }
   ],
   "source": [
    "print(e1)\n",
    "Edge?"
   ]
  },
  {
   "cell_type": "markdown",
   "metadata": {},
   "source": [
    "## 2. Graph\n",
    "\n",
    "This class models the network given by the vertexes and edges. It has a dict of vertexes (`vertex`), a dict of edges (`edges`), a `name`, can be directed (`isdirected: True | False`), can be autoupdated (`autoupdate: True | False`) when you add information, has a dict of `updaters` and finally can be `propagative`."
   ]
  },
  {
   "cell_type": "code",
   "execution_count": 12,
   "metadata": {},
   "outputs": [],
   "source": [
    "from graph import Graph\n",
    "Graph?"
   ]
  },
  {
   "cell_type": "code",
   "execution_count": 13,
   "metadata": {},
   "outputs": [
    {
     "name": "stdout",
     "output_type": "stream",
     "text": [
      "Graph (\n",
      " vertex=[Vertex (name='v1',weight=25), Vertex (name='v2',weight=25)],\n",
      " edges=[Edge (v1,v2)])\n"
     ]
    }
   ],
   "source": [
    "v1=Vertex(\"v1\",25,contain=\"Isabella\",updaters=[])\n",
    "v2=Vertex(\"v2\",25,contain=\"Fernanda\",updaters=[])\n",
    "\n",
    "e1=Edge(v1,v2,cost=2.5,name=\"Debt\",updaters=[])\n",
    "\n",
    "g1=Graph(vertex=[v1,v2],edges=[e1])\n",
    "print(g1)"
   ]
  },
  {
   "cell_type": "code",
   "execution_count": 14,
   "metadata": {},
   "outputs": [
    {
     "data": {
      "text/plain": [
       "[Vertex (name='v1',weight=25), Vertex (name='v2',weight=25)]"
      ]
     },
     "execution_count": 14,
     "metadata": {},
     "output_type": "execute_result"
    }
   ],
   "source": [
    "g1.get_vertexes()"
   ]
  },
  {
   "cell_type": "markdown",
   "metadata": {},
   "source": [
    "There is no need to specify the vertexes, you cas just pass the edges:"
   ]
  },
  {
   "cell_type": "code",
   "execution_count": 15,
   "metadata": {},
   "outputs": [
    {
     "name": "stdout",
     "output_type": "stream",
     "text": [
      "Graph (\n",
      " vertex=[Vertex (name='v1',weight=25), Vertex (name='v2',weight=25)],\n",
      " edges=[Edge (v1,v2)])\n"
     ]
    }
   ],
   "source": [
    "v1=Vertex(\"v1\",25,contain=\"Isabella\",updaters=[])\n",
    "v2=Vertex(\"v2\",25,contain=\"Fernanda\",updaters=[])\n",
    "\n",
    "e1=Edge(v1,v2,cost=2.5,name=\"Debt\",updaters=[])\n",
    "\n",
    "g1=Graph(edges=[e1])\n",
    "print(g1)"
   ]
  },
  {
   "cell_type": "markdown",
   "metadata": {},
   "source": [
    "### 2.1 Uptaters: What is it?"
   ]
  },
  {
   "cell_type": "markdown",
   "metadata": {},
   "source": [
    "The idea of the updaters is to change the value of some registers on the graph following an undater rule. So, for example, you want to save the sum of the weights entering to your vertex from the neighborhoods multiplied by the cost of the edge connecting them, also when you put a new vertex on the graph you would like to update this information. Then you define a new updater caller `\"in_weight\"`, also, creates a rule that defines the way you update this information. So you create a function which take a vertex sum weight of the values of the neighborhoods and save it on the updater of the vertex."
   ]
  },
  {
   "cell_type": "code",
   "execution_count": 16,
   "metadata": {},
   "outputs": [],
   "source": [
    "def in_weight(graph,key,start_vertex,vertex=None,edge=None,back=False):\n",
    "    for v in graph.get_edges(vertex,starting=False):\n",
    "        vertex.update_val(key,vertex.get_updater_val(key)+v.get_cost()*v.start.get_weight())"
   ]
  },
  {
   "cell_type": "code",
   "execution_count": 17,
   "metadata": {},
   "outputs": [],
   "source": [
    "v1=Vertex(\"v1\",25,contain=\"Isabella\",updaters=[\"in_weight\"])\n",
    "v2=Vertex(\"v2\",25,contain=\"Fernanda\",updaters=[\"in_weight\"])\n",
    "\n",
    "e1=Edge(v1,v2,cost=2.5,name=\"Debt\",updaters=[])\n",
    "\n",
    "g1=Graph(edges=[e1],updaters={\"in_weight\":in_weight})"
   ]
  },
  {
   "cell_type": "markdown",
   "metadata": {},
   "source": [
    "**Before update**"
   ]
  },
  {
   "cell_type": "code",
   "execution_count": 18,
   "metadata": {},
   "outputs": [
    {
     "data": {
      "text/plain": [
       "{Vertex (name='v1',weight=25): 0, Vertex (name='v2',weight=25): 0}"
      ]
     },
     "execution_count": 18,
     "metadata": {},
     "output_type": "execute_result"
    }
   ],
   "source": [
    "g1.get_updaters_values(\"in_weight\")"
   ]
  },
  {
   "cell_type": "code",
   "execution_count": 19,
   "metadata": {},
   "outputs": [],
   "source": [
    "g1.update_all()"
   ]
  },
  {
   "cell_type": "markdown",
   "metadata": {},
   "source": [
    "**After update**"
   ]
  },
  {
   "cell_type": "code",
   "execution_count": 20,
   "metadata": {},
   "outputs": [
    {
     "data": {
      "text/plain": [
       "{Vertex (name='v1',weight=25): 0, Vertex (name='v2',weight=25): 62.5}"
      ]
     },
     "execution_count": 20,
     "metadata": {},
     "output_type": "execute_result"
    }
   ],
   "source": [
    "g1.get_updaters_values(\"in_weight\")"
   ]
  },
  {
   "cell_type": "markdown",
   "metadata": {},
   "source": [
    "If we add a new vertex and an edge we can recalculate the value of the updater"
   ]
  },
  {
   "cell_type": "code",
   "execution_count": 21,
   "metadata": {},
   "outputs": [],
   "source": [
    "v3=Vertex(\"v3\",10,contain=\"Lorena\",updaters=[\"in_weight\"])\n",
    "\n",
    "e2=Edge(v3,v2,cost=1,name=\"Rent\",updaters=[])\n",
    "\n",
    "g1.add_edge([e2])"
   ]
  },
  {
   "cell_type": "code",
   "execution_count": 22,
   "metadata": {},
   "outputs": [
    {
     "data": {
      "text/plain": [
       "{Vertex (name='v1',weight=25): 0,\n",
       " Vertex (name='v2',weight=25): 135.0,\n",
       " Vertex (name='v3',weight=10): 0}"
      ]
     },
     "execution_count": 22,
     "metadata": {},
     "output_type": "execute_result"
    }
   ],
   "source": [
    "g1.update_all()\n",
    "g1.get_updaters_values(\"in_weight\")"
   ]
  },
  {
   "cell_type": "markdown",
   "metadata": {},
   "source": [
    "You can notice the new graph looks like\n",
    "\n",
    "                  (weight=25)v1 ------------->v2<------------- v3(weight=10)\n",
    "                                  (cost=2.5)        (cost=1)\n",
    "\n",
    "So the value of the updater would be `25*2.5+10*1=72.5`, but the last cell shows the value `135.0`. Thats because out function `in_weight` takes the *actual* value of the updater and sums the value of the weight times the cost. To fix this, redefine the function "
   ]
  },
  {
   "cell_type": "code",
   "execution_count": 23,
   "metadata": {},
   "outputs": [],
   "source": [
    "def in_weight(graph,key,start_vertex,vertex=None,edge=None,back=False):\n",
    "    vertex.update_val(key,0) # Reset the updater\n",
    "    for v in graph.get_edges(vertex,starting=False):\n",
    "        vertex.update_val(key,vertex.get_updater_val(key)+v.get_cost()*v.start.get_weight())"
   ]
  },
  {
   "cell_type": "code",
   "execution_count": 24,
   "metadata": {},
   "outputs": [
    {
     "data": {
      "text/plain": [
       "{Vertex (name='v1',weight=25): 0,\n",
       " Vertex (name='v2',weight=25): 72.5,\n",
       " Vertex (name='v3',weight=10): 0}"
      ]
     },
     "execution_count": 24,
     "metadata": {},
     "output_type": "execute_result"
    }
   ],
   "source": [
    "v1=Vertex(\"v1\",25,contain=\"Isabella\",updaters=[\"in_weight\"])\n",
    "v2=Vertex(\"v2\",25,contain=\"Fernanda\",updaters=[\"in_weight\"])\n",
    "v3=Vertex(\"v3\",10,contain=\"Lorena\",updaters=[\"in_weight\"])\n",
    "\n",
    "e1=Edge(v1,v2,cost=2.5,name=\"Debt\",updaters=[])\n",
    "e2=Edge(v3,v2,cost=1,name=\"Rent\",updaters=[])\n",
    "\n",
    "g1=Graph(edges=[e1,e2],updaters={\"in_weight\":in_weight})\n",
    "g1.update_all()\n",
    "g1.get_updaters_values(\"in_weight\")"
   ]
  },
  {
   "cell_type": "markdown",
   "metadata": {},
   "source": [
    "So the rule that updates the follows your function.\n",
    "\n",
    "#### Autoupdate\n",
    "\n",
    "In the last graph we includes a new vertex and a new edge. Also we used the function `update_all()` to recalculate all the values with the new information. If we need this action to be automatically when a new edge is added we cand set `autoupdate=True`."
   ]
  },
  {
   "cell_type": "code",
   "execution_count": 25,
   "metadata": {},
   "outputs": [
    {
     "data": {
      "text/plain": [
       "{Vertex (name='v1',weight=25): 0, Vertex (name='v2',weight=25): 62.5}"
      ]
     },
     "execution_count": 25,
     "metadata": {},
     "output_type": "execute_result"
    }
   ],
   "source": [
    "v1=Vertex(\"v1\",25,contain=\"Isabella\",updaters=[\"in_weight\"])\n",
    "v2=Vertex(\"v2\",25,contain=\"Fernanda\",updaters=[\"in_weight\"])\n",
    "\n",
    "e1=Edge(v1,v2,cost=2.5,name=\"Debt\",updaters=[])\n",
    "\n",
    "g1=Graph(edges=[e1],autoupdate=True,updaters={\"in_weight\":in_weight})\n",
    "g1.update_all()\n",
    "g1.get_updaters_values(\"in_weight\")"
   ]
  },
  {
   "cell_type": "code",
   "execution_count": 26,
   "metadata": {},
   "outputs": [],
   "source": [
    "# We add a new edge\n",
    "v3=Vertex(\"v3\",10,contain=\"Lorena\",updaters=[\"in_weight\"])\n",
    "\n",
    "e2=Edge(v3,v2,cost=1,name=\"Rent\",updaters=[])\n",
    "\n",
    "g1.add_edge([e2])"
   ]
  },
  {
   "cell_type": "code",
   "execution_count": 27,
   "metadata": {},
   "outputs": [
    {
     "data": {
      "text/plain": [
       "{Vertex (name='v1',weight=25): 0,\n",
       " Vertex (name='v2',weight=25): 72.5,\n",
       " Vertex (name='v3',weight=10): 0}"
      ]
     },
     "execution_count": 27,
     "metadata": {},
     "output_type": "execute_result"
    }
   ],
   "source": [
    "# New values\n",
    "g1.get_updaters_values(\"in_weight\")"
   ]
  },
  {
   "cell_type": "markdown",
   "metadata": {},
   "source": [
    "#### Propagation\n",
    "\n",
    "The `autoupdate` function has a particularity: it updates the start vertes and the end vertex of the added edge. So, for example, we store the data `carry` on the some start vertexes `v1` and `v2`, on the graph"
   ]
  },
  {
   "cell_type": "code",
   "execution_count": 28,
   "metadata": {},
   "outputs": [],
   "source": [
    "v1=Vertex(\"v1\",25,contain=\"Isabella\",updaters=[\"carry\"])\n",
    "v2=Vertex(\"v2\",25,contain=\"Fernanda\",updaters=[\"carry\"])\n",
    "v3=Vertex(\"v3\",25,contain=\"Fernanda\",updaters=[\"carry\"])\n",
    "v4=Vertex(\"v4\",25,contain=\"Fernanda\",updaters=[\"carry\"])\n",
    "\n",
    "e1=Edge(v1,v3,cost=1,name=\"net\",updaters=[])\n",
    "e3=Edge(v3,v4,cost=1,name=\"net\",updaters=[])\n",
    "\n",
    "g2=Graph(edges=[e1,e3],autoupdate=True)"
   ]
  },
  {
   "cell_type": "markdown",
   "metadata": {},
   "source": [
    "So, we need to define the updater function to the updater `carry`"
   ]
  },
  {
   "cell_type": "code",
   "execution_count": 29,
   "metadata": {},
   "outputs": [],
   "source": [
    "def carry(graph,key,start_vertex,vertex=None,edge=None,back=False):\n",
    "    vertex.update_val(key,0) # Reset the updater\n",
    "    for v in graph.get_edges(vertex,starting=False):\n",
    "        vertex.update_val(key,vertex.get_updater_val(key)+v.get_cost()*v.start.get_updater_val(key))\n",
    "g2.add_func_updater(\"carry\",carry)"
   ]
  },
  {
   "cell_type": "markdown",
   "metadata": {},
   "source": [
    "Now we set new values for the updater at vertex `v1`"
   ]
  },
  {
   "cell_type": "code",
   "execution_count": 30,
   "metadata": {},
   "outputs": [
    {
     "data": {
      "text/plain": [
       "{Vertex (name='v1',weight=25): 2,\n",
       " Vertex (name='v3',weight=25): 2,\n",
       " Vertex (name='v4',weight=25): 0}"
      ]
     },
     "execution_count": 30,
     "metadata": {},
     "output_type": "execute_result"
    }
   ],
   "source": [
    "g2.set_vertex_updater_val(v1,\"carry\",2)\n",
    "g2.get_updaters_values(\"carry\")"
   ]
  },
  {
   "cell_type": "markdown",
   "metadata": {},
   "source": [
    "As you may notice, the update value was updated for the vertex `v3`, which is conected to the vertex `v1`, but the vertex `v4` must be `2` too, because the value of `v3` changed. If we set `propagation=True` the graph will continue updating all the vertex conected to the new value."
   ]
  },
  {
   "cell_type": "code",
   "execution_count": 31,
   "metadata": {},
   "outputs": [
    {
     "name": "stdout",
     "output_type": "stream",
     "text": [
      "Your graph have propagation, you need to specify the start vertex\n"
     ]
    }
   ],
   "source": [
    "v1=Vertex(\"v1\",25,contain=\"Isabella\",updaters=[\"carry\"])\n",
    "v2=Vertex(\"v2\",25,contain=\"Fernanda\",updaters=[\"carry\"])\n",
    "v3=Vertex(\"v3\",25,contain=\"Fernanda\",updaters=[\"carry\"])\n",
    "v4=Vertex(\"v4\",25,contain=\"Fernanda\",updaters=[\"carry\"])\n",
    "v5=Vertex(\"v5\",25,contain=\"Fernanda\",updaters=[\"carry\"])\n",
    "\n",
    "e1=Edge(v1,v3,cost=1,name=\"net\",updaters=[])\n",
    "e3=Edge(v3,v4,cost=1,name=\"net\",updaters=[])\n",
    "e4=Edge(v4,v5,cost=1,name=\"net\",updaters=[])\n",
    "g2=Graph(edges=[e1,e3,e4],autoupdate=True,propagation=True)"
   ]
  },
  {
   "cell_type": "code",
   "execution_count": 32,
   "metadata": {},
   "outputs": [
    {
     "data": {
      "text/plain": [
       "{Vertex (name='v1',weight=25): 0,\n",
       " Vertex (name='v3',weight=25): 0,\n",
       " Vertex (name='v4',weight=25): 0,\n",
       " Vertex (name='v5',weight=25): 0}"
      ]
     },
     "execution_count": 32,
     "metadata": {},
     "output_type": "execute_result"
    }
   ],
   "source": [
    "g2.get_updaters_values(\"carry\")"
   ]
  },
  {
   "cell_type": "markdown",
   "metadata": {},
   "source": [
    "The las message was given by the propagation function. Due to the graph has `autoupdate=True` it updates all the graph when constructed, by propagation it tries to propagate values, but the graph don't know where to start."
   ]
  },
  {
   "cell_type": "code",
   "execution_count": 33,
   "metadata": {},
   "outputs": [
    {
     "data": {
      "text/plain": [
       "{Vertex (name='v1',weight=25): 2,\n",
       " Vertex (name='v3',weight=25): 2,\n",
       " Vertex (name='v4',weight=25): 2,\n",
       " Vertex (name='v5',weight=25): 2}"
      ]
     },
     "execution_count": 33,
     "metadata": {},
     "output_type": "execute_result"
    }
   ],
   "source": [
    "g2.set_vertex_updater_val(v1,\"carry\",2)\n",
    "g2.get_updaters_values(\"carry\")"
   ]
  },
  {
   "cell_type": "markdown",
   "metadata": {},
   "source": [
    "Now, we the vertex `v4` have the correct value.\n",
    "\n",
    "If we add a new vertex and edge, the graph also propagate."
   ]
  },
  {
   "cell_type": "code",
   "execution_count": 34,
   "metadata": {},
   "outputs": [
    {
     "data": {
      "text/plain": [
       "{Vertex (name='v1',weight=25): 2,\n",
       " Vertex (name='v3',weight=25): 2,\n",
       " Vertex (name='v4',weight=25): 2,\n",
       " Vertex (name='v5',weight=25): 2,\n",
       " Vertex (name='v2',weight=25): 0}"
      ]
     },
     "execution_count": 34,
     "metadata": {},
     "output_type": "execute_result"
    }
   ],
   "source": [
    "e2=Edge(v2,v3,cost=1,name=\"net\",updaters=[])\n",
    "g2.add_edge([e2])\n",
    "g2.get_updaters_values(\"carry\")"
   ]
  },
  {
   "cell_type": "code",
   "execution_count": 35,
   "metadata": {},
   "outputs": [
    {
     "data": {
      "text/plain": [
       "{Vertex (name='v1',weight=25): 2,\n",
       " Vertex (name='v3',weight=25): 4,\n",
       " Vertex (name='v4',weight=25): 4,\n",
       " Vertex (name='v5',weight=25): 4,\n",
       " Vertex (name='v2',weight=25): 2}"
      ]
     },
     "execution_count": 35,
     "metadata": {},
     "output_type": "execute_result"
    }
   ],
   "source": [
    "g2.set_vertex_updater_val(v2,\"carry\",2)\n",
    "g2.get_updaters_values(\"carry\")"
   ]
  },
  {
   "cell_type": "code",
   "execution_count": 36,
   "metadata": {},
   "outputs": [],
   "source": [
    "def p_back(graph,key,start_vertex,vertex=None,edge=None,back=False):\n",
    "    if back:\n",
    "        for v in graph.get_edges(vertex,starting=False):\n",
    "            v.start.update_val(key,v.start.get_updater_val(key)+v.get_cost()*vertex.get_updater_val(key))\n",
    "    else:\n",
    "        for v in graph.get_edges(vertex,ending=False):\n",
    "            v.end.update_val(key,v.end.get_updater_val(key)+v.get_cost()*vertex.get_updater_val(key)+vertex.get_bias())"
   ]
  },
  {
   "cell_type": "markdown",
   "metadata": {},
   "source": [
    "## 3. Full connected neural net\n",
    "\n",
    "An special kind of graph is the full connected neural net (`NeuralNetFC`)"
   ]
  },
  {
   "cell_type": "code",
   "execution_count": 37,
   "metadata": {},
   "outputs": [],
   "source": [
    "from neural_net_FC import NeuralNetFC"
   ]
  },
  {
   "cell_type": "markdown",
   "metadata": {},
   "source": [
    "This class have a `name`, a list with the neurons per layer (`npl`), a list with `updaters`, and it initializes the edges with random values by default (`random=True | False`)"
   ]
  },
  {
   "cell_type": "code",
   "execution_count": 38,
   "metadata": {},
   "outputs": [
    {
     "name": "stderr",
     "output_type": "stream",
     "text": [
      "Layer 0: 100%|███████████████████████████████████████████████████████████████████████████████████| 2/2 [00:00<?, ?it/s]\n",
      "Layer 1: 100%|███████████████████████████████████████████████████████████████████████████████████| 3/3 [00:00<?, ?it/s]\n",
      "Layer 2: 100%|███████████████████████████████████████████████████████████████████████████████████| 4/4 [00:00<?, ?it/s]\n",
      "Connecting network: 100%|████████████████████████████████████████████████████████████████████████| 2/2 [00:00<?, ?it/s]\n"
     ]
    }
   ],
   "source": [
    "nn=NeuralNetFC(name=\"example\",npl=[2,3,4],updaters={\"pr\":p_back},random=True)"
   ]
  },
  {
   "cell_type": "code",
   "execution_count": 39,
   "metadata": {},
   "outputs": [
    {
     "data": {
      "text/plain": [
       "NeuralNet_FC (\n",
       "   \u001b[1m config \u001b[0;0m=[2, 3, 4]\n",
       "   \u001b[1m vertex \u001b[0;0m=['L0_v0', 'L0_v1', 'L1_v0', 'L1_v1', 'L1_v2', 'L2_v0', 'L2_v1', 'L2_v2', 'L2_v3'],\n",
       "   \u001b[1m edges \u001b[0;0m=[Edge (L0_v0,L1_v0), Edge (L0_v0,L1_v1), Edge (L0_v0,L1_v2), Edge (L0_v1,L1_v0), Edge (L0_v1,L1_v1), Edge (L0_v1,L1_v2), Edge (L1_v0,L2_v0), Edge (L1_v0,L2_v1), Edge (L1_v0,L2_v2), Edge (L1_v0,L2_v3), Edge (L1_v1,L2_v0), Edge (L1_v1,L2_v1), Edge (L1_v1,L2_v2), Edge (L1_v1,L2_v3), Edge (L1_v2,L2_v0), Edge (L1_v2,L2_v1), Edge (L1_v2,L2_v2), Edge (L1_v2,L2_v3)])"
      ]
     },
     "execution_count": 39,
     "metadata": {},
     "output_type": "execute_result"
    }
   ],
   "source": [
    "nn"
   ]
  },
  {
   "cell_type": "markdown",
   "metadata": {},
   "source": [
    "The class creates all the neurons and the edges. The name of the neurons follows the rule `Li_vj`, where `i` is the number of the layer and `j` is the number of the neuron on the layer. This class loads the class `Neuron`, a subclass of vertex."
   ]
  },
  {
   "cell_type": "code",
   "execution_count": 40,
   "metadata": {},
   "outputs": [
    {
     "data": {
      "text/plain": [
       "Neuron (name='L0_v0, bias=0)"
      ]
     },
     "execution_count": 40,
     "metadata": {},
     "output_type": "execute_result"
    }
   ],
   "source": [
    "nn.find_vertex_by_name(\"L0_v0\")"
   ]
  },
  {
   "cell_type": "code",
   "execution_count": 41,
   "metadata": {},
   "outputs": [
    {
     "name": "stderr",
     "output_type": "stream",
     "text": [
      "Prop. on 3 layers: 100%|█████████████████████████████████████████████████████████████████████████| 9/9 [00:00<?, ?it/s]\n"
     ]
    },
    {
     "data": {
      "text/plain": [
       "[[1.5752352287753222,\n",
       "  1.815585087664564,\n",
       "  1.0618740597253393,\n",
       "  0.7136011862078434]]"
      ]
     },
     "execution_count": 41,
     "metadata": {},
     "output_type": "execute_result"
    }
   ],
   "source": [
    "nn.predict([[1,1]],key=[\"pr\"])"
   ]
  },
  {
   "cell_type": "markdown",
   "metadata": {},
   "source": [
    "### 3.1 Draw a Fully connected Neural Net\n",
    "\n",
    "The class `DrawGraph` provides a visualization of the neural net using OpenGL and Pyglet."
   ]
  },
  {
   "cell_type": "code",
   "execution_count": 42,
   "metadata": {},
   "outputs": [],
   "source": [
    "from draw_graph import DrawGraph\n",
    "DrawGraph(nn,x_sep=150,y_sep=100).run()"
   ]
  },
  {
   "cell_type": "code",
   "execution_count": 43,
   "metadata": {},
   "outputs": [
    {
     "name": "stderr",
     "output_type": "stream",
     "text": [
      "Layer 0: 100%|███████████████████████████████████████████████████████████████████████████████████| 4/4 [00:00<?, ?it/s]\n",
      "Layer 1: 100%|███████████████████████████████████████████████████████████████████████████████████| 2/2 [00:00<?, ?it/s]\n",
      "Layer 2: 100%|███████████████████████████████████████████████████████████████████████████████████| 1/1 [00:00<?, ?it/s]\n",
      "Layer 3: 100%|███████████████████████████████████████████████████████████████████████████████████| 5/5 [00:00<?, ?it/s]\n",
      "Layer 4: 100%|███████████████████████████████████████████████████████████████████████████████████| 3/3 [00:00<?, ?it/s]\n",
      "Connecting network: 100%|████████████████████████████████████████████████████████████████████████| 4/4 [00:00<?, ?it/s]\n"
     ]
    }
   ],
   "source": [
    "nn2=NeuralNetFC(name=\"example\",npl=[4,2,1,5,3],updaters={\"pr\":p_back},random=True)\n",
    "DrawGraph(nn2,x_sep=150,y_sep=100).run()"
   ]
  },
  {
   "cell_type": "markdown",
   "metadata": {},
   "source": [
    "***\n",
    "#### Disclaimer\n",
    "\n",
    "This document and the files are work on progress."
   ]
  }
 ],
 "metadata": {
  "kernelspec": {
   "display_name": "Python 3",
   "language": "python",
   "name": "python3"
  },
  "language_info": {
   "codemirror_mode": {
    "name": "ipython",
    "version": 3
   },
   "file_extension": ".py",
   "mimetype": "text/x-python",
   "name": "python",
   "nbconvert_exporter": "python",
   "pygments_lexer": "ipython3",
   "version": "3.7.3"
  }
 },
 "nbformat": 4,
 "nbformat_minor": 2
}
